{
  "nbformat": 4,
  "nbformat_minor": 0,
  "metadata": {
    "colab": {
      "provenance": [],
      "authorship_tag": "ABX9TyMf9waci4pQhSNqvAcwAf7D",
      "include_colab_link": true
    },
    "kernelspec": {
      "name": "python3",
      "display_name": "Python 3"
    },
    "language_info": {
      "name": "python"
    }
  },
  "cells": [
    {
      "cell_type": "markdown",
      "metadata": {
        "id": "view-in-github",
        "colab_type": "text"
      },
      "source": [
        "<a href=\"https://colab.research.google.com/github/amsa10/Conv-segmentation/blob/main/task2.ipynb\" target=\"_parent\"><img src=\"https://colab.research.google.com/assets/colab-badge.svg\" alt=\"Open In Colab\"/></a>"
      ]
    },
    {
      "cell_type": "code",
      "execution_count": 4,
      "metadata": {
        "colab": {
          "base_uri": "https://localhost:8080/"
        },
        "id": "Os8Cq8rwsDC5",
        "outputId": "4f8d2e4d-ba3e-47c7-ed56-6015ac72939c"
      },
      "outputs": [
        {
          "output_type": "stream",
          "name": "stdout",
          "text": [
            "u21: 0.4706836639363989\n",
            "u22: 0.6912137883600998\n",
            "u11: 0.8899274256374969\n",
            "u12: 0.425557483188341\n"
          ]
        }
      ],
      "source": [
        "import numpy as np\n",
        "\n",
        "# Define the weights\n",
        "weights = {\n",
        "    'w11': 0.73, 'w12': -1.23,\n",
        "    'w21': 1.18, 'w22': 0.44,\n",
        "    'w13': 1.13, 'w23': 0.96,\n",
        "    'w14': 0.46, 'w24': -0.76\n",
        "}\n",
        "\n",
        "# Define the activations of the last layer\n",
        "u31 = 0.53\n",
        "u32 = 0.41\n",
        "\n",
        "# Sigmoid activation function\n",
        "def sigmoid(x):\n",
        "    return 1 / (1 + np.exp(-x))\n",
        "\n",
        "# Calculate the activations of the hidden layer 2\n",
        "z21 = weights['w11'] * u31 + weights['w12'] * u32\n",
        "z22 = weights['w21'] * u31 + weights['w22'] * u32\n",
        "\n",
        "u21 = sigmoid(z21)\n",
        "u22 = sigmoid(z22)\n",
        "\n",
        "# Calculate the activations of the hidden layer 1\n",
        "# To get u11 and u12, we need the values of weights connecting the input to the first hidden layer\n",
        "# Assume we have similar weights for the hidden layer 1\n",
        "# Note: This is an example, you need to adjust according to actual weights and inputs\n",
        "\n",
        "# For demonstration, let's assume we have hypothetical weights to compute u11 and u12\n",
        "weights_hidden_layer_1 = {\n",
        "    'w31': weights['w13'], 'w32': weights['w23'],\n",
        "    'w41': weights['w14'], 'w42': weights['w24']\n",
        "}\n",
        "\n",
        "# Let's assume some input values (placeholders)\n",
        "input1 = 1.0  # Placeholder value\n",
        "input2 = 1.0  # Placeholder value\n",
        "\n",
        "# Calculate the activations for the first hidden layer\n",
        "z11 = weights_hidden_layer_1['w31'] * input1 + weights_hidden_layer_1['w32'] * input2\n",
        "z12 = weights_hidden_layer_1['w41'] * input1 + weights_hidden_layer_1['w42'] * input2\n",
        "\n",
        "u11 = sigmoid(z11)\n",
        "u12 = sigmoid(z12)\n",
        "\n",
        "# Print results\n",
        "print(f'u21: {u21}')\n",
        "print(f'u22: {u22}')\n",
        "print(f'u11: {u11}')\n",
        "print(f'u12: {u12}')\n",
        "\n",
        "\n"
      ]
    },
    {
      "cell_type": "code",
      "source": [
        "import numpy as np\n",
        "\n",
        "\n",
        "# Given weights\n",
        "weights = {\n",
        "    'w11': 0.73, 'w12': -1.23,\n",
        "    'w21': 1.18, 'w22': 0.44,\n",
        "    'w13': 1.13, 'w23': 0.96,\n",
        "    'w14': 0.46, 'w24': -0.76\n",
        "}\n",
        "\n",
        "# Given activations\n",
        "u31 = 0.53\n",
        "u32 = 0.41\n",
        "\n",
        "# Learning rate\n",
        "learning_rate = 0.05\n",
        "\n",
        "# Define sigmoid and its derivative\n",
        "def sigmoid(x):\n",
        "    return 1 / (1 + np.exp(-x))\n",
        "\n",
        "def sigmoid_derivative(x):\n",
        "    return sigmoid(x) * (1 - sigmoid(x))\n",
        "\n",
        "# Assume some hypothetical target values and predictions\n",
        "# For the sake of this example, let's use:\n",
        "target = np.array([1, 0])  # Assuming class K2\n",
        "output = np.array([u31, u32])  # These are the activations from the output layer\n",
        "\n",
        "# Compute the error\n",
        "error = target - output\n",
        "\n",
        "# Compute the gradient of the loss w.r.t the output layer activations\n",
        "output_grad = -error * sigmoid_derivative(output)\n",
        "\n",
        "# Calculate gradients with respect to the weights\n",
        "grad_w12 = output_grad[0] * u31\n",
        "grad_w22 = output_grad[1] * u32\n",
        "\n",
        "# Update the weights\n",
        "weights['w12'] -= learning_rate * grad_w12\n",
        "weights['w22'] -= learning_rate * grad_w22\n",
        "\n",
        "# Output the updated weights\n",
        "print(f\"Updated weight w12: {weights['w12']}\")\n",
        "print(f\"Updated weight w22: {weights['w22']}\")\n",
        "\n"
      ],
      "metadata": {
        "colab": {
          "base_uri": "https://localhost:8080/"
        },
        "id": "cmjmsX6IulVo",
        "outputId": "8c09ee31-5044-4651-d4b9-e974d29f138d"
      },
      "execution_count": 6,
      "outputs": [
        {
          "output_type": "stream",
          "name": "stdout",
          "text": [
            "Updated weight w12: -1.2270950689891267\n",
            "Updated weight w22: 0.4379846386714968\n"
          ]
        }
      ]
    },
    {
      "cell_type": "markdown",
      "source": [
        "Updated weight w12: -1.2270950689891267:\n",
        "\n",
        "Это значение указывает, что вес\n",
        "𝑤\n",
        "12\n",
        "w\n",
        "12\n",
        "​\n",
        "  немного изменился по сравнению с исходным значением. Он стал немного менее отрицательным.\n",
        "Updated weight w22: 0.4379846386714968:\n",
        "\n",
        "Это значение показывает, что вес\n",
        "𝑤\n",
        "22\n",
        "w\n",
        "22\n",
        "​\n",
        "  уменьшился, что делает его менее положительным."
      ],
      "metadata": {
        "id": "1i0VihzXwysa"
      }
    }
  ]
}
