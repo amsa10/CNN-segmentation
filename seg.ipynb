{
  "cells": [
    {
      "cell_type": "markdown",
      "metadata": {
        "id": "view-in-github",
        "colab_type": "text"
      },
      "source": [
        "<a href=\"https://colab.research.google.com/github/amsa10/Conv-segmentation/blob/main/seg.ipynb\" target=\"_parent\"><img src=\"https://colab.research.google.com/assets/colab-badge.svg\" alt=\"Open In Colab\"/></a>"
      ]
    },
    {
      "cell_type": "code",
      "execution_count": 1,
      "metadata": {
        "colab": {
          "base_uri": "https://localhost:8080/"
        },
        "id": "pAjq2deZddET",
        "outputId": "43c129a6-8a20-46f8-f548-5d86a6c508c1"
      },
      "outputs": [
        {
          "output_type": "stream",
          "name": "stderr",
          "text": [
            "100%|██████████| 418M/418M [03:57<00:00, 1.84MB/s]\n"
          ]
        },
        {
          "output_type": "stream",
          "name": "stdout",
          "text": [
            "File downloaded successfully and saved to /content/pretrained_model.h5\n",
            "Model loaded successfully.\n"
          ]
        }
      ],
      "source": [
        "import requests\n",
        "from tqdm import tqdm\n",
        "import tensorflow as tf\n",
        "\n",
        "# Download the pretrained model\n",
        "model_url = 'yourmodel'\n",
        "model_path = '/content/pretrained_model.h5'\n",
        "\n",
        "try:\n",
        "    response = requests.get(model_url, stream=True)\n",
        "    response.raise_for_status()  # Raise an exception for HTTP errors\n",
        "    total_size = int(response.headers.get('content-length', 0))\n",
        "\n",
        "    with open(model_path, 'wb') as file:\n",
        "        with tqdm(total=total_size, unit='B', unit_scale=True, unit_divisor=1024) as progress_bar:\n",
        "            for chunk in response.iter_content(chunk_size=8192):\n",
        "                if chunk:\n",
        "                    file.write(chunk)\n",
        "                    progress_bar.update(len(chunk))\n",
        "\n",
        "    print(f\"File downloaded successfully and saved to {model_path}\")\n",
        "\n",
        "    # Load the model\n",
        "    model = tf.keras.models.load_model(model_path, compile=False)\n",
        "    print(\"Model loaded successfully.\")\n",
        "\n",
        "except requests.exceptions.RequestException as e:\n",
        "    print(f\"Failed to download file: {e}\")\n",
        "\n",
        "except Exception as e:\n",
        "    print(f\"An error occurred: {e}\")\n",
        "\n"
      ]
    },
    {
      "cell_type": "code",
      "execution_count": 2,
      "metadata": {
        "colab": {
          "base_uri": "https://localhost:8080/"
        },
        "id": "Plxt2G2z6Iyl",
        "outputId": "7d118fb1-3e83-44d8-e1e6-0aeac6fa92a6"
      },
      "outputs": [
        {
          "output_type": "stream",
          "name": "stdout",
          "text": [
            "Shape of the first stacked patch: (192, 192, 4)\n"
          ]
        }
      ],
      "source": [
        "import cv2\n",
        "import numpy as np\n",
        "import os\n",
        "\n",
        "# Directory containing the patches\n",
        "patch_dir = 'sample'\n",
        "\n",
        "# List the files in the directory\n",
        "files = os.listdir(patch_dir)\n",
        "\n",
        "# Create a dictionary to store the patches\n",
        "patches = {\n",
        "    'blue': [],\n",
        "    'green': [],\n",
        "    'red': [],\n",
        "    'nir': []\n",
        "}\n",
        "\n",
        "# Function to resize the patch\n",
        "def resize_patch(file_path):\n",
        "    img = cv2.imread(file_path, cv2.IMREAD_UNCHANGED)  # Read as grayscale to handle individual bands\n",
        "    resized_img = cv2.resize(img, (192, 192), interpolation=cv2.INTER_AREA)\n",
        "    return resized_img\n",
        "\n",
        "# Load and resize each patch\n",
        "for file in files:\n",
        "    if 'blue' in file:\n",
        "        patches['blue'].append(resize_patch(os.path.join(patch_dir, file)))\n",
        "    elif 'green' in file:\n",
        "        patches['green'].append(resize_patch(os.path.join(patch_dir, file)))\n",
        "    elif 'red' in file:\n",
        "        patches['red'].append(resize_patch(os.path.join(patch_dir, file)))\n",
        "    elif 'nir' in file:\n",
        "        patches['nir'].append(resize_patch(os.path.join(patch_dir, file)))\n",
        "\n",
        "# Stack the corresponding spectral bands\n",
        "\n",
        "stacked_patches = []\n",
        "for i in range(len(patches['blue'])):\n",
        "    # Stack the patches along the last axis\n",
        "    stacked_patch = np.stack((\n",
        "        patches['blue'][i],\n",
        "        patches['green'][i],\n",
        "        patches['red'][i],\n",
        "        patches['nir'][i]\n",
        "    ), axis=-1)\n",
        "    stacked_patches.append(stacked_patch)\n",
        "\n",
        "\n",
        "# Example: Print the shape of the first stacked patch to verify\n",
        "print(f'Shape of the first stacked patch: {stacked_patches[0].shape}')\n"
      ]
    },
    {
      "cell_type": "code",
      "execution_count": 3,
      "metadata": {
        "colab": {
          "base_uri": "https://localhost:8080/"
        },
        "id": "5P_I1FExEvAU",
        "outputId": "160d1c4e-99f3-4e8a-8aa8-a828cd35e862"
      },
      "outputs": [
        {
          "output_type": "stream",
          "name": "stdout",
          "text": [
            "\u001b[1m1/1\u001b[0m \u001b[32m━━━━━━━━━━━━━━━━━━━━\u001b[0m\u001b[37m\u001b[0m \u001b[1m2s\u001b[0m 2s/step\n"
          ]
        }
      ],
      "source": [
        "import numpy as np\n",
        "\n",
        "# Stack the normalized patches into a single NumPy array\n",
        "stacked_patches_reshaped = np.stack(stacked_patches, axis=0)\n",
        "\n",
        "# Now predict using the reshaped data\n",
        "predictions = model.predict(stacked_patches_reshaped)"
      ]
    },
    {
      "cell_type": "code",
      "source": [
        "import numpy as np\n",
        "\n",
        "# Assuming 'binary_array' is your binary mask\n",
        "num_positive = np.sum(predictions == 1)\n",
        "num_negative = np.sum(predictions == 0.5)\n",
        "\n",
        "print(f\"Number of positive pixels: {num_positive}\")\n",
        "print(f\"Number of negative pixels: {num_negative}\")\n"
      ],
      "metadata": {
        "colab": {
          "base_uri": "https://localhost:8080/"
        },
        "id": "cAF0P5Y4rQH6",
        "outputId": "70077ff0-e28d-4605-e3d6-b157999d023e"
      },
      "execution_count": 56,
      "outputs": [
        {
          "output_type": "stream",
          "name": "stdout",
          "text": [
            "Number of positive pixels: 28439\n",
            "Number of negative pixels: 0\n"
          ]
        }
      ]
    },
    {
      "cell_type": "code",
      "execution_count": 57,
      "metadata": {
        "colab": {
          "base_uri": "https://localhost:8080/"
        },
        "id": "DgFAOzMU-pOH",
        "outputId": "4587ca98-ac4e-44f3-8e15-462832da8dac"
      },
      "outputs": [
        {
          "output_type": "stream",
          "name": "stdout",
          "text": [
            "Shape of processed patch: (384, 384)\n"
          ]
        }
      ],
      "source": [
        "import numpy as np\n",
        "from skimage.transform import resize\n",
        "\n",
        "# Example variable (replace with your actual patch)\n",
        "predicted_patch = predictions  # Replace with actual single patch\n",
        "global_threshold = 0.5\n",
        "new_size = (384, 384)\n",
        "\n",
        "def process_patch(patch, threshold, new_size):\n",
        "    # Remove single-dimensional entries from the shape of the patch\n",
        "    patch = patch.squeeze()  # Shape: (192, 192)\n",
        "\n",
        "    # Binarize the patch\n",
        "    binary_patch = (patch > threshold)\n",
        "\n",
        "    # Resize the patch\n",
        "    resized_patch = resize(binary_patch, new_size, mode='reflect', anti_aliasing=False)\n",
        "\n",
        "\n",
        "\n",
        "    return resized_patch\n",
        "\n",
        "# Assuming 'predicted_patch' is passed to the function process_patch\n",
        "processed_patch= process_patch(predicted_patch, global_threshold, new_size)\n",
        "\n",
        "# Print the shape of the processed patch\n",
        "print(\"Shape of processed patch:\", processed_patch.shape)\n",
        "\n"
      ]
    },
    {
      "cell_type": "code",
      "execution_count": 58,
      "metadata": {
        "colab": {
          "base_uri": "https://localhost:8080/",
          "height": 608
        },
        "id": "kW5uJAtMB7N4",
        "outputId": "8bf07125-b574-4643-e25a-695138fefea2"
      },
      "outputs": [
        {
          "output_type": "stream",
          "name": "stdout",
          "text": [
            "Jaccard Index: 0.7749\n",
            "Precision: 0.7909\n",
            "Recall: 0.9745\n",
            "Specificity: 0.5686\n",
            "Overall Accuracy: 0.8227\n"
          ]
        },
        {
          "output_type": "display_data",
          "data": {
            "text/plain": [
              "<Figure size 1800x600 with 2 Axes>"
            ],
            "image/png": "[encoded data removed]"
          },
          "metadata": {}
        }
      ],
      "source": [
        "import numpy as np\n",
        "import tensorflow as tf\n",
        "from skimage import io\n",
        "from skimage.color import rgb2gray\n",
        "from skimage.transform import resize\n",
        "import matplotlib.pyplot as plt\n",
        "\n",
        "# Load and normalize the ground truth image\n",
        "ground_truth_path = '/content/sample/gt_patch_100_5_by_12_LC08_L1TP_061017_20160720_20170223_01_T1.tiff'\n",
        "ground_truth = io.imread(ground_truth_path)\n",
        "ground_truth = (ground_truth == 255).astype(np.uint8)\n",
        "\n",
        "\n",
        "# Ensure ground_truth_binary and processed_patch are the same size\n",
        "if processed_patch.shape != ground_truth.shape:\n",
        "    processed_patch = resize(processed_patch, ground_truth.shape, mode='reflect', anti_aliasing=False)\n",
        "\n",
        "# Compute metrics\n",
        "def compute_metrics(predicted_mask, ground_truth_mask):\n",
        "    TP = np.sum((predicted_mask == 1) & (ground_truth_mask == 1))\n",
        "    TN = np.sum((predicted_mask == 0) & (ground_truth_mask == 0))\n",
        "    FP = np.sum((predicted_mask == 1) & (ground_truth_mask == 0))\n",
        "    FN = np.sum((predicted_mask == 0) & (ground_truth_mask == 1))\n",
        "\n",
        "    jaccard_index = TP / (TP + FN + FP) if (TP + FN + FP) > 0 else 0\n",
        "    precision = TP / (TP + FP) if (TP + FP) > 0 else 0\n",
        "    recall = TP / (TP + FN) if (TP + FN) > 0 else 0\n",
        "    specificity = TN / (TN + FP) if (TN + FP) > 0 else 0\n",
        "    overall_accuracy = (TP + TN) / (TP + TN + FP + FN) if (TP + TN + FP + FN) > 0 else 0\n",
        "\n",
        "    return jaccard_index, precision, recall, specificity, overall_accuracy\n",
        "\n",
        "# Compute metrics\n",
        "jaccard_index, precision, recall, specificity, overall_accuracy = compute_metrics(processed_patch, ground_truth)\n",
        "\n",
        "# Print metrics\n",
        "print(f\"Jaccard Index: {jaccard_index:.4f}\")\n",
        "print(f\"Precision: {precision:.4f}\")\n",
        "print(f\"Recall: {recall:.4f}\")\n",
        "print(f\"Specificity: {specificity:.4f}\")\n",
        "print(f\"Overall Accuracy: {overall_accuracy:.4f}\")\n",
        "\n",
        "# Plot the results for visual inspection\n",
        "fig, ax = plt.subplots(1, 2, figsize=(18, 6))\n",
        "ax[0].imshow(ground_truth, cmap='gray')\n",
        "ax[0].set_title('Ground Truth Mask')\n",
        "ax[0].axis('off')\n",
        "\n",
        "ax[1].imshow(processed_patch, cmap='gray')\n",
        "ax[1].set_title('Predicted Mask')\n",
        "ax[1].axis('off')\n",
        "\n",
        "plt.show()\n",
        "\n"
      ]
    },
    {
      "cell_type": "code",
      "source": [],
      "metadata": {
        "id": "8grAw92X6YcU"
      },
      "execution_count": null,
      "outputs": []
    },
    {
      "cell_type": "code",
      "source": [],
      "metadata": {
        "id": "-IT29zPG6Yxq"
      },
      "execution_count": null,
      "outputs": []
    },
    {
      "cell_type": "code",
      "source": [],
      "metadata": {
        "id": "ajelSItt6Y-h"
      },
      "execution_count": null,
      "outputs": []
    },
    {
      "cell_type": "code",
      "source": [],
      "metadata": {
        "id": "Q9zhhAVs6ZKZ"
      },
      "execution_count": null,
      "outputs": []
    },
    {
      "cell_type": "code",
      "source": [],
      "metadata": {
        "id": "o-piqlY36ZVK"
      },
      "execution_count": null,
      "outputs": []
    },
    {
      "cell_type": "code",
      "source": [],
      "metadata": {
        "id": "yqcI6h6e6Zfe"
      },
      "execution_count": null,
      "outputs": []
    },
    {
      "cell_type": "code",
      "source": [],
      "metadata": {
        "id": "IHWM1W476ZrM"
      },
      "execution_count": null,
      "outputs": []
    },
    {
      "cell_type": "code",
      "source": [],
      "metadata": {
        "id": "AdxbYwIl6QMD"
      },
      "execution_count": null,
      "outputs": []
    },
    {
      "cell_type": "code",
      "execution_count": 9,
      "metadata": {
        "colab": {
          "base_uri": "https://localhost:8080/"
        },
        "id": "ZeJ6K_VbD38E",
        "outputId": "218c7e01-98ff-45f5-f851-3a1dcbec3dfd",
        "collapsed": true
      },
      "outputs": [
        {
          "output_type": "stream",
          "name": "stdout",
          "text": [
            "Requirement already satisfied: gdown in /usr/local/lib/python3.10/dist-packages (5.1.0)\n",
            "Requirement already satisfied: beautifulsoup4 in /usr/local/lib/python3.10/dist-packages (from gdown) (4.12.3)\n",
            "Requirement already satisfied: filelock in /usr/local/lib/python3.10/dist-packages (from gdown) (3.15.4)\n",
            "Requirement already satisfied: requests[socks] in /usr/local/lib/python3.10/dist-packages (from gdown) (2.31.0)\n",
            "Requirement already satisfied: tqdm in /usr/local/lib/python3.10/dist-packages (from gdown) (4.66.4)\n",
            "Requirement already satisfied: soupsieve>1.2 in /usr/local/lib/python3.10/dist-packages (from beautifulsoup4->gdown) (2.5)\n",
            "Requirement already satisfied: charset-normalizer<4,>=2 in /usr/local/lib/python3.10/dist-packages (from requests[socks]->gdown) (3.3.2)\n",
            "Requirement already satisfied: idna<4,>=2.5 in /usr/local/lib/python3.10/dist-packages (from requests[socks]->gdown) (3.7)\n",
            "Requirement already satisfied: urllib3<3,>=1.21.1 in /usr/local/lib/python3.10/dist-packages (from requests[socks]->gdown) (2.0.7)\n",
            "Requirement already satisfied: certifi>=2017.4.17 in /usr/local/lib/python3.10/dist-packages (from requests[socks]->gdown) (2024.7.4)\n",
            "Requirement already satisfied: PySocks!=1.5.7,>=1.5.6 in /usr/local/lib/python3.10/dist-packages (from requests[socks]->gdown) (1.7.1)\n",
            "/usr/local/lib/python3.10/dist-packages/gdown/__main__.py:132: FutureWarning: Option `--id` was deprecated in version 4.3.1 and will be removed in 5.0. You don't need to pass it anymore to use a file ID.\n",
            "  warnings.warn(\n",
            "Downloading...\n",
            "From: https://drive.google.com/uc?id=1beO8YaOR5ZNPtV4ftmC8bzlygjBaJGrX\n",
            "To: /content/img.tiff\n",
            "100% 53.1M/53.1M [00:02<00:00, 21.2MB/s]\n"
          ]
        }
      ],
      "source": [
        "!pip install gdown\n",
        "!gdown --id yourlink -O img.tiff\n"
      ]
    },
    {
      "cell_type": "code",
      "execution_count": null,
      "metadata": {
        "collapsed": true,
        "id": "doQXazUuC0b8"
      },
      "outputs": [],
      "source": [
        "pip install patchify rasterio matplotlib\n"
      ]
    },
    {
      "cell_type": "code",
      "execution_count": null,
      "metadata": {
        "id": "OQfzCbhUtq1B",
        "collapsed": true
      },
      "outputs": [],
      "source": [
        "import rasterio\n",
        "import matplotlib.pyplot as plt\n",
        "\n",
        "# Open the TIFF file\n",
        "with rasterio.open('/content/img.tiff') as src:\n",
        "    # Read the image data\n",
        "    img_array = src.read(1)  # Read the first band\n",
        "\n",
        "    # Get image metadata\n",
        "    metadata = src.meta\n",
        "    print('Metadata:', metadata)\n",
        "\n",
        "# Display the image using matplotlib\n",
        "plt.imshow(img_array, cmap='gray')\n",
        "plt.title('16-bit Grayscale Image')\n",
        "plt.colorbar()  # To show the color scale\n",
        "plt.show()\n",
        "\n",
        "\n"
      ]
    },
    {
      "cell_type": "code",
      "execution_count": 79,
      "metadata": {
        "colab": {
          "base_uri": "https://localhost:8080/"
        },
        "id": "3df5ohBzWAJd",
        "outputId": "269fc00c-19da-4310-b827-fa988fa795da"
      },
      "outputs": [
        {
          "output_type": "stream",
          "name": "stdout",
          "text": [
            "\u001b[1m5/5\u001b[0m \u001b[32m━━━━━━━━━━━━━━━━━━━━\u001b[0m\u001b[37m\u001b[0m \u001b[1m94s\u001b[0m 16s/step\n"
          ]
        }
      ],
      "source": [
        "import numpy as np\n",
        "from PIL import Image\n",
        "from skimage.transform import resize\n",
        "import tensorflow as tf  # Or import your model library\n",
        "import matplotlib.pyplot as plt\n",
        "\n",
        "# Load the image\n",
        "image_path = '/content/img.tiff'\n",
        "image = Image.open(image_path)\n",
        "\n",
        "# Convert to NumPy array\n",
        "img_array = np.array(image)\n",
        "\n",
        "# Normalize to range [0, 1]\n",
        "#img_array = img_array / 65535.0\n",
        "\n",
        "# Expand dimensions for single-channel to RGBNIR (assuming dummy channels)\n",
        "rgbnir_array = np.stack([img_array] * 4, axis=-1)  # Assuming dummy RGBNIR\n",
        "\n",
        "# Define functions to extract patches and resize them\n",
        "def extract_patches(img, patch_size, resize_to):\n",
        "    patches = []\n",
        "    h, w, _ = img.shape\n",
        "    for i in range(0, h - patch_size + 1, patch_size):\n",
        "        for j in range(0, w - patch_size + 1, patch_size):\n",
        "            patch = img[i:i+patch_size, j:j+patch_size]\n",
        "            patch_resized = resize(patch, resize_to, mode='reflect')\n",
        "            patches.append(patch_resized)\n",
        "    return np.array(patches)\n",
        "\n",
        "# Extract and resize patches\n",
        "patches = extract_patches(rgbnir_array, patch_size=384, resize_to=(192, 192, 4))\n",
        "\n",
        "# Load your pretrained model\n",
        "# Replace this with your model loading code\n",
        "predictions = model.predict(patches)\n",
        "\n",
        "# Predict cloud masks predictions = model.predict(patches)\n",
        "\n",
        "\n",
        "\n"
      ]
    },
    {
      "cell_type": "code",
      "execution_count": 83,
      "metadata": {
        "colab": {
          "base_uri": "https://localhost:8080/"
        },
        "id": "yQaLCNNCnV3I",
        "outputId": "4504b230-4dba-4bf5-d7e7-169402f83ff3"
      },
      "outputs": [
        {
          "output_type": "execute_result",
          "data": {
            "text/plain": [
              "(148, 192, 192, 1)"
            ]
          },
          "metadata": {},
          "execution_count": 83
        }
      ],
      "source": [
        "predictions.shape"
      ]
    },
    {
      "cell_type": "code",
      "execution_count": null,
      "metadata": {
        "id": "08fxmAhpozRY",
        "collapsed": true
      },
      "outputs": [],
      "source": [
        "import numpy as np\n",
        "import tensorflow as tf\n",
        "from PIL import Image\n",
        "from skimage.transform import resize\n",
        "import matplotlib.pyplot as plt\n",
        "\n",
        "# Metadata\n",
        "original_width = 14456\n",
        "original_height = 1800\n",
        "patch_size = 384\n",
        "resized_patch_size = 192\n",
        "global_threshold = 0.047\n",
        "\n",
        "\n",
        "# Binarize the predictions using the global threshold\n",
        "binary_predictions = predictions > global_threshold\n",
        "\n",
        "# Resize each patch to 384x384\n",
        "resized_predictions = np.zeros((binary_predictions.shape[0], patch_size, patch_size), dtype=np.float32)\n",
        "for i in range(binary_predictions.shape[0]):\n",
        "    resized_predictions[i] = resize(binary_predictions[i, :, :, 0], (patch_size, patch_size), mode='constant')\n",
        "\n",
        "# Define the number of patches\n",
        "num_patches_x = original_width // patch_size\n",
        "num_patches_y = original_height // patch_size\n",
        "\n",
        "# Initialize arrays for reconstruction\n",
        "cloud_mask_full = np.zeros((original_height, original_width), dtype=np.float32)\n",
        "count_map = np.zeros((original_height, original_width), dtype=np.float32)\n",
        "\n",
        "# Reconstruct the full image\n",
        "for i in range(num_patches_y):\n",
        "    for j in range(num_patches_x):\n",
        "        start_y = i * patch_size\n",
        "        start_x = j * patch_size\n",
        "        end_y = start_y + patch_size\n",
        "        end_x = start_x + patch_size\n",
        "\n",
        "        # Ensure the end indices do not exceed the image dimensions\n",
        "        if end_y > original_height:\n",
        "            end_y = original_height\n",
        "        if end_x > original_width:\n",
        "            end_x = original_width\n",
        "\n",
        "        # Calculate patch indices in resized_predictions\n",
        "        patch_idx = i * num_patches_x + j\n",
        "        patch = resized_predictions[patch_idx]\n",
        "\n",
        "        # Add patch to full image and update count map\n",
        "        cloud_mask_full[start_y:end_y, start_x:end_x] += patch[:end_y - start_y, :end_x - start_x]\n",
        "        count_map[start_y:end_y, start_x:end_x] += 1\n",
        "\n",
        "# Normalize the full cloud mask\n",
        "cloud_mask_full /= np.maximum(count_map, 1)\n",
        "\n",
        "# Save the cloud mask as an image\n",
        "output_mask_path = '/content/cloud_mask_full.png'\n",
        "plt.imsave(output_mask_path, cloud_mask_full, cmap='gray')\n",
        "\n",
        "print(f\"Full cloud mask saved to {output_mask_path}\")\n",
        "\n",
        "# Display the full cloud mask\n",
        "plt.figure(figsize=(12, 6))\n",
        "plt.title('Predicted Cloud Mask')\n",
        "plt.imshow(cloud_mask_full, cmap='gray')\n",
        "plt.axis('off')\n",
        "plt.show()\n",
        "\n"
      ]
    },
    {
      "cell_type": "code",
      "execution_count": null,
      "metadata": {
        "id": "fBX-gakrf0am",
        "collapsed": true
      },
      "outputs": [],
      "source": [
        "import numpy as np\n",
        "from PIL import Image\n",
        "import matplotlib.pyplot as plt\n",
        "\n",
        "# Load the original image\n",
        "original_image_path = '/content/img.tiff'\n",
        "original_image = Image.open(original_image_path)\n",
        "\n",
        "# Assuming cloud_mask_full is already computed and normalized\n",
        "# Normalize the image to the [0, 255] range for saving\n",
        "cloud_mask_normalized = (cloud_mask_full - cloud_mask_full.min()) / (cloud_mask_full.max() - cloud_mask_full.min())\n",
        "cloud_mask_uint8 = (cloud_mask_normalized * 255).astype(np.uint8)\n",
        "\n",
        "# Save the cloud mask using PIL\n",
        "output_mask_path = '/content/cloud_mask_full.png'\n",
        "Image.fromarray(cloud_mask_uint8, mode='L').save(output_mask_path)\n",
        "\n",
        "print(f\"Full cloud mask saved to {output_mask_path}\")\n",
        "\n",
        "# Display the original image and cloud mask side by side\n",
        "plt.figure(figsize=(100, 100))\n",
        "\n",
        "# Display the original image\n",
        "plt.subplot(1, 2, 1)\n",
        "plt.title('Original Image')\n",
        "plt.imshow(original_image, cmap='gray')\n",
        "plt.axis('off')\n",
        "\n",
        "# Display the cloud mask\n",
        "plt.subplot(1, 2, 2)\n",
        "plt.title('Cloud Mask')\n",
        "plt.imshow(cloud_mask_full, cmap='gray', vmin=0, vmax=1)\n",
        "plt.axis('off')\n",
        "\n",
        "plt.show()\n"
      ]
    }
  ],
  "metadata": {
    "colab": {
      "provenance": [],
      "include_colab_link": true
    },
    "kernelspec": {
      "display_name": "Python 3",
      "name": "python3"
    }
  },
  "nbformat": 4,
  "nbformat_minor": 0
}